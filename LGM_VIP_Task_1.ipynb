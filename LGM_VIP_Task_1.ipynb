{
  "nbformat": 4,
  "nbformat_minor": 0,
  "metadata": {
    "anaconda-cloud": {},
    "kernelspec": {
      "display_name": "Python 3",
      "language": "python",
      "name": "python3"
    },
    "language_info": {
      "codemirror_mode": {
        "name": "ipython",
        "version": 3
      },
      "file_extension": ".py",
      "mimetype": "text/x-python",
      "name": "python",
      "nbconvert_exporter": "python",
      "pygments_lexer": "ipython3",
      "version": "3.7.7"
    },
    "colab": {
      "name": "LGM-VIP Task 1.ipynb",
      "provenance": []
    }
  },
  "cells": [
    {
      "cell_type": "markdown",
      "metadata": {
        "id": "4AT2TS4ebBvo"
      },
      "source": [
        "# TASK 1 | Data Science Internship\n",
        "# IRIS DATASET CLASSIFICATION USING SUPERVISED LEARNING"
      ]
    },
    {
      "cell_type": "markdown",
      "metadata": {
        "id": "r6p9jcqLcKNM"
      },
      "source": [
        "# Author: Yusra Shereen"
      ]
    },
    {
      "cell_type": "markdown",
      "metadata": {
        "id": "0rJ3bYgeaHox"
      },
      "source": [
        "### Importing the Libraries\n"
      ]
    },
    {
      "cell_type": "code",
      "metadata": {
        "id": "bJYV3YKwaHox"
      },
      "source": [
        "import pandas as pd, scipy, numpy as np\n",
        "import sklearn.preprocessing\n",
        "from matplotlib import pyplot as plt\n",
        "%matplotlib inline"
      ],
      "execution_count": 2,
      "outputs": []
    },
    {
      "cell_type": "markdown",
      "metadata": {
        "id": "zDOIfoVEaHox"
      },
      "source": [
        "### Loading the iris dataset"
      ]
    },
    {
      "cell_type": "code",
      "metadata": {
        "colab": {
          "base_uri": "https://localhost:8080/"
        },
        "id": "R_bVIEFtdcyU",
        "outputId": "8d4c3ddf-0993-4aeb-e9c9-483395290a0e"
      },
      "source": [
        "from google.colab import drive\n",
        "drive.mount('/content/drive')"
      ],
      "execution_count": 3,
      "outputs": [
        {
          "output_type": "stream",
          "text": [
            "Mounted at /content/drive\n"
          ],
          "name": "stdout"
        }
      ]
    },
    {
      "cell_type": "code",
      "metadata": {
        "id": "y4Q2EoTiaHox"
      },
      "source": [
        "headernames = ['sepal-length', 'sepal-width', 'petal-length', 'petal-width', 'species'] "
      ],
      "execution_count": 10,
      "outputs": []
    },
    {
      "cell_type": "code",
      "metadata": {
        "colab": {
          "base_uri": "https://localhost:8080/",
          "height": 203
        },
        "id": "Yasg1SjsaHox",
        "outputId": "08f3145a-724a-471c-c508-25178b993e54"
      },
      "source": [
        "ds_iris = pd.read_csv('/content/drive/MyDrive/Data Science Internship/iris.data', names = headernames)\n",
        "ds_iris.head()"
      ],
      "execution_count": 11,
      "outputs": [
        {
          "output_type": "execute_result",
          "data": {
            "text/html": [
              "<div>\n",
              "<style scoped>\n",
              "    .dataframe tbody tr th:only-of-type {\n",
              "        vertical-align: middle;\n",
              "    }\n",
              "\n",
              "    .dataframe tbody tr th {\n",
              "        vertical-align: top;\n",
              "    }\n",
              "\n",
              "    .dataframe thead th {\n",
              "        text-align: right;\n",
              "    }\n",
              "</style>\n",
              "<table border=\"1\" class=\"dataframe\">\n",
              "  <thead>\n",
              "    <tr style=\"text-align: right;\">\n",
              "      <th></th>\n",
              "      <th>sepal-length</th>\n",
              "      <th>sepal-width</th>\n",
              "      <th>petal-length</th>\n",
              "      <th>petal-width</th>\n",
              "      <th>species</th>\n",
              "    </tr>\n",
              "  </thead>\n",
              "  <tbody>\n",
              "    <tr>\n",
              "      <th>0</th>\n",
              "      <td>5.1</td>\n",
              "      <td>3.5</td>\n",
              "      <td>1.4</td>\n",
              "      <td>0.2</td>\n",
              "      <td>Iris-setosa</td>\n",
              "    </tr>\n",
              "    <tr>\n",
              "      <th>1</th>\n",
              "      <td>4.9</td>\n",
              "      <td>3.0</td>\n",
              "      <td>1.4</td>\n",
              "      <td>0.2</td>\n",
              "      <td>Iris-setosa</td>\n",
              "    </tr>\n",
              "    <tr>\n",
              "      <th>2</th>\n",
              "      <td>4.7</td>\n",
              "      <td>3.2</td>\n",
              "      <td>1.3</td>\n",
              "      <td>0.2</td>\n",
              "      <td>Iris-setosa</td>\n",
              "    </tr>\n",
              "    <tr>\n",
              "      <th>3</th>\n",
              "      <td>4.6</td>\n",
              "      <td>3.1</td>\n",
              "      <td>1.5</td>\n",
              "      <td>0.2</td>\n",
              "      <td>Iris-setosa</td>\n",
              "    </tr>\n",
              "    <tr>\n",
              "      <th>4</th>\n",
              "      <td>5.0</td>\n",
              "      <td>3.6</td>\n",
              "      <td>1.4</td>\n",
              "      <td>0.2</td>\n",
              "      <td>Iris-setosa</td>\n",
              "    </tr>\n",
              "  </tbody>\n",
              "</table>\n",
              "</div>"
            ],
            "text/plain": [
              "   sepal-length  sepal-width  petal-length  petal-width      species\n",
              "0           5.1          3.5           1.4          0.2  Iris-setosa\n",
              "1           4.9          3.0           1.4          0.2  Iris-setosa\n",
              "2           4.7          3.2           1.3          0.2  Iris-setosa\n",
              "3           4.6          3.1           1.5          0.2  Iris-setosa\n",
              "4           5.0          3.6           1.4          0.2  Iris-setosa"
            ]
          },
          "metadata": {
            "tags": []
          },
          "execution_count": 11
        }
      ]
    },
    {
      "cell_type": "code",
      "metadata": {
        "colab": {
          "base_uri": "https://localhost:8080/"
        },
        "id": "J8_iGzuzaHoy",
        "outputId": "0499e534-dc7d-4bfb-fb34-b00cfe6cd64a"
      },
      "source": [
        "print(ds_iris)"
      ],
      "execution_count": 12,
      "outputs": [
        {
          "output_type": "stream",
          "text": [
            "     sepal-length  sepal-width  petal-length  petal-width         species\n",
            "0             5.1          3.5           1.4          0.2     Iris-setosa\n",
            "1             4.9          3.0           1.4          0.2     Iris-setosa\n",
            "2             4.7          3.2           1.3          0.2     Iris-setosa\n",
            "3             4.6          3.1           1.5          0.2     Iris-setosa\n",
            "4             5.0          3.6           1.4          0.2     Iris-setosa\n",
            "..            ...          ...           ...          ...             ...\n",
            "145           6.7          3.0           5.2          2.3  Iris-virginica\n",
            "146           6.3          2.5           5.0          1.9  Iris-virginica\n",
            "147           6.5          3.0           5.2          2.0  Iris-virginica\n",
            "148           6.2          3.4           5.4          2.3  Iris-virginica\n",
            "149           5.9          3.0           5.1          1.8  Iris-virginica\n",
            "\n",
            "[150 rows x 5 columns]\n"
          ],
          "name": "stdout"
        }
      ]
    },
    {
      "cell_type": "markdown",
      "metadata": {
        "id": "UXCzaCqacvlP"
      },
      "source": [
        "### **Encoding Labels**"
      ]
    },
    {
      "cell_type": "code",
      "metadata": {
        "colab": {
          "base_uri": "https://localhost:8080/",
          "height": 203
        },
        "id": "bvH1CUnZc2U4",
        "outputId": "e443f936-f94c-4da4-fc93-924096e52d54"
      },
      "source": [
        "from sklearn.preprocessing import LabelEncoder\n",
        "\n",
        "l_en = LabelEncoder()\n",
        "ds_iris['species']= l_en.fit_transform(ds_iris['species'])\n",
        "ds_iris.head()"
      ],
      "execution_count": 13,
      "outputs": [
        {
          "output_type": "execute_result",
          "data": {
            "text/html": [
              "<div>\n",
              "<style scoped>\n",
              "    .dataframe tbody tr th:only-of-type {\n",
              "        vertical-align: middle;\n",
              "    }\n",
              "\n",
              "    .dataframe tbody tr th {\n",
              "        vertical-align: top;\n",
              "    }\n",
              "\n",
              "    .dataframe thead th {\n",
              "        text-align: right;\n",
              "    }\n",
              "</style>\n",
              "<table border=\"1\" class=\"dataframe\">\n",
              "  <thead>\n",
              "    <tr style=\"text-align: right;\">\n",
              "      <th></th>\n",
              "      <th>sepal-length</th>\n",
              "      <th>sepal-width</th>\n",
              "      <th>petal-length</th>\n",
              "      <th>petal-width</th>\n",
              "      <th>species</th>\n",
              "    </tr>\n",
              "  </thead>\n",
              "  <tbody>\n",
              "    <tr>\n",
              "      <th>0</th>\n",
              "      <td>5.1</td>\n",
              "      <td>3.5</td>\n",
              "      <td>1.4</td>\n",
              "      <td>0.2</td>\n",
              "      <td>0</td>\n",
              "    </tr>\n",
              "    <tr>\n",
              "      <th>1</th>\n",
              "      <td>4.9</td>\n",
              "      <td>3.0</td>\n",
              "      <td>1.4</td>\n",
              "      <td>0.2</td>\n",
              "      <td>0</td>\n",
              "    </tr>\n",
              "    <tr>\n",
              "      <th>2</th>\n",
              "      <td>4.7</td>\n",
              "      <td>3.2</td>\n",
              "      <td>1.3</td>\n",
              "      <td>0.2</td>\n",
              "      <td>0</td>\n",
              "    </tr>\n",
              "    <tr>\n",
              "      <th>3</th>\n",
              "      <td>4.6</td>\n",
              "      <td>3.1</td>\n",
              "      <td>1.5</td>\n",
              "      <td>0.2</td>\n",
              "      <td>0</td>\n",
              "    </tr>\n",
              "    <tr>\n",
              "      <th>4</th>\n",
              "      <td>5.0</td>\n",
              "      <td>3.6</td>\n",
              "      <td>1.4</td>\n",
              "      <td>0.2</td>\n",
              "      <td>0</td>\n",
              "    </tr>\n",
              "  </tbody>\n",
              "</table>\n",
              "</div>"
            ],
            "text/plain": [
              "   sepal-length  sepal-width  petal-length  petal-width  species\n",
              "0           5.1          3.5           1.4          0.2        0\n",
              "1           4.9          3.0           1.4          0.2        0\n",
              "2           4.7          3.2           1.3          0.2        0\n",
              "3           4.6          3.1           1.5          0.2        0\n",
              "4           5.0          3.6           1.4          0.2        0"
            ]
          },
          "metadata": {
            "tags": []
          },
          "execution_count": 13
        }
      ]
    },
    {
      "cell_type": "markdown",
      "metadata": {
        "id": "L4MyoalWaHoy"
      },
      "source": [
        "### Splitting up in feature attributes and class variable"
      ]
    },
    {
      "cell_type": "code",
      "metadata": {
        "colab": {
          "base_uri": "https://localhost:8080/"
        },
        "id": "KcJDCB37aHoy",
        "outputId": "ecfbd458-9785-434e-d092-6552e8f3757a"
      },
      "source": [
        "x = ds_iris.iloc[:, :-1].values\n",
        "x"
      ],
      "execution_count": 14,
      "outputs": [
        {
          "output_type": "execute_result",
          "data": {
            "text/plain": [
              "array([[5.1, 3.5, 1.4, 0.2],\n",
              "       [4.9, 3. , 1.4, 0.2],\n",
              "       [4.7, 3.2, 1.3, 0.2],\n",
              "       [4.6, 3.1, 1.5, 0.2],\n",
              "       [5. , 3.6, 1.4, 0.2],\n",
              "       [5.4, 3.9, 1.7, 0.4],\n",
              "       [4.6, 3.4, 1.4, 0.3],\n",
              "       [5. , 3.4, 1.5, 0.2],\n",
              "       [4.4, 2.9, 1.4, 0.2],\n",
              "       [4.9, 3.1, 1.5, 0.1],\n",
              "       [5.4, 3.7, 1.5, 0.2],\n",
              "       [4.8, 3.4, 1.6, 0.2],\n",
              "       [4.8, 3. , 1.4, 0.1],\n",
              "       [4.3, 3. , 1.1, 0.1],\n",
              "       [5.8, 4. , 1.2, 0.2],\n",
              "       [5.7, 4.4, 1.5, 0.4],\n",
              "       [5.4, 3.9, 1.3, 0.4],\n",
              "       [5.1, 3.5, 1.4, 0.3],\n",
              "       [5.7, 3.8, 1.7, 0.3],\n",
              "       [5.1, 3.8, 1.5, 0.3],\n",
              "       [5.4, 3.4, 1.7, 0.2],\n",
              "       [5.1, 3.7, 1.5, 0.4],\n",
              "       [4.6, 3.6, 1. , 0.2],\n",
              "       [5.1, 3.3, 1.7, 0.5],\n",
              "       [4.8, 3.4, 1.9, 0.2],\n",
              "       [5. , 3. , 1.6, 0.2],\n",
              "       [5. , 3.4, 1.6, 0.4],\n",
              "       [5.2, 3.5, 1.5, 0.2],\n",
              "       [5.2, 3.4, 1.4, 0.2],\n",
              "       [4.7, 3.2, 1.6, 0.2],\n",
              "       [4.8, 3.1, 1.6, 0.2],\n",
              "       [5.4, 3.4, 1.5, 0.4],\n",
              "       [5.2, 4.1, 1.5, 0.1],\n",
              "       [5.5, 4.2, 1.4, 0.2],\n",
              "       [4.9, 3.1, 1.5, 0.1],\n",
              "       [5. , 3.2, 1.2, 0.2],\n",
              "       [5.5, 3.5, 1.3, 0.2],\n",
              "       [4.9, 3.1, 1.5, 0.1],\n",
              "       [4.4, 3. , 1.3, 0.2],\n",
              "       [5.1, 3.4, 1.5, 0.2],\n",
              "       [5. , 3.5, 1.3, 0.3],\n",
              "       [4.5, 2.3, 1.3, 0.3],\n",
              "       [4.4, 3.2, 1.3, 0.2],\n",
              "       [5. , 3.5, 1.6, 0.6],\n",
              "       [5.1, 3.8, 1.9, 0.4],\n",
              "       [4.8, 3. , 1.4, 0.3],\n",
              "       [5.1, 3.8, 1.6, 0.2],\n",
              "       [4.6, 3.2, 1.4, 0.2],\n",
              "       [5.3, 3.7, 1.5, 0.2],\n",
              "       [5. , 3.3, 1.4, 0.2],\n",
              "       [7. , 3.2, 4.7, 1.4],\n",
              "       [6.4, 3.2, 4.5, 1.5],\n",
              "       [6.9, 3.1, 4.9, 1.5],\n",
              "       [5.5, 2.3, 4. , 1.3],\n",
              "       [6.5, 2.8, 4.6, 1.5],\n",
              "       [5.7, 2.8, 4.5, 1.3],\n",
              "       [6.3, 3.3, 4.7, 1.6],\n",
              "       [4.9, 2.4, 3.3, 1. ],\n",
              "       [6.6, 2.9, 4.6, 1.3],\n",
              "       [5.2, 2.7, 3.9, 1.4],\n",
              "       [5. , 2. , 3.5, 1. ],\n",
              "       [5.9, 3. , 4.2, 1.5],\n",
              "       [6. , 2.2, 4. , 1. ],\n",
              "       [6.1, 2.9, 4.7, 1.4],\n",
              "       [5.6, 2.9, 3.6, 1.3],\n",
              "       [6.7, 3.1, 4.4, 1.4],\n",
              "       [5.6, 3. , 4.5, 1.5],\n",
              "       [5.8, 2.7, 4.1, 1. ],\n",
              "       [6.2, 2.2, 4.5, 1.5],\n",
              "       [5.6, 2.5, 3.9, 1.1],\n",
              "       [5.9, 3.2, 4.8, 1.8],\n",
              "       [6.1, 2.8, 4. , 1.3],\n",
              "       [6.3, 2.5, 4.9, 1.5],\n",
              "       [6.1, 2.8, 4.7, 1.2],\n",
              "       [6.4, 2.9, 4.3, 1.3],\n",
              "       [6.6, 3. , 4.4, 1.4],\n",
              "       [6.8, 2.8, 4.8, 1.4],\n",
              "       [6.7, 3. , 5. , 1.7],\n",
              "       [6. , 2.9, 4.5, 1.5],\n",
              "       [5.7, 2.6, 3.5, 1. ],\n",
              "       [5.5, 2.4, 3.8, 1.1],\n",
              "       [5.5, 2.4, 3.7, 1. ],\n",
              "       [5.8, 2.7, 3.9, 1.2],\n",
              "       [6. , 2.7, 5.1, 1.6],\n",
              "       [5.4, 3. , 4.5, 1.5],\n",
              "       [6. , 3.4, 4.5, 1.6],\n",
              "       [6.7, 3.1, 4.7, 1.5],\n",
              "       [6.3, 2.3, 4.4, 1.3],\n",
              "       [5.6, 3. , 4.1, 1.3],\n",
              "       [5.5, 2.5, 4. , 1.3],\n",
              "       [5.5, 2.6, 4.4, 1.2],\n",
              "       [6.1, 3. , 4.6, 1.4],\n",
              "       [5.8, 2.6, 4. , 1.2],\n",
              "       [5. , 2.3, 3.3, 1. ],\n",
              "       [5.6, 2.7, 4.2, 1.3],\n",
              "       [5.7, 3. , 4.2, 1.2],\n",
              "       [5.7, 2.9, 4.2, 1.3],\n",
              "       [6.2, 2.9, 4.3, 1.3],\n",
              "       [5.1, 2.5, 3. , 1.1],\n",
              "       [5.7, 2.8, 4.1, 1.3],\n",
              "       [6.3, 3.3, 6. , 2.5],\n",
              "       [5.8, 2.7, 5.1, 1.9],\n",
              "       [7.1, 3. , 5.9, 2.1],\n",
              "       [6.3, 2.9, 5.6, 1.8],\n",
              "       [6.5, 3. , 5.8, 2.2],\n",
              "       [7.6, 3. , 6.6, 2.1],\n",
              "       [4.9, 2.5, 4.5, 1.7],\n",
              "       [7.3, 2.9, 6.3, 1.8],\n",
              "       [6.7, 2.5, 5.8, 1.8],\n",
              "       [7.2, 3.6, 6.1, 2.5],\n",
              "       [6.5, 3.2, 5.1, 2. ],\n",
              "       [6.4, 2.7, 5.3, 1.9],\n",
              "       [6.8, 3. , 5.5, 2.1],\n",
              "       [5.7, 2.5, 5. , 2. ],\n",
              "       [5.8, 2.8, 5.1, 2.4],\n",
              "       [6.4, 3.2, 5.3, 2.3],\n",
              "       [6.5, 3. , 5.5, 1.8],\n",
              "       [7.7, 3.8, 6.7, 2.2],\n",
              "       [7.7, 2.6, 6.9, 2.3],\n",
              "       [6. , 2.2, 5. , 1.5],\n",
              "       [6.9, 3.2, 5.7, 2.3],\n",
              "       [5.6, 2.8, 4.9, 2. ],\n",
              "       [7.7, 2.8, 6.7, 2. ],\n",
              "       [6.3, 2.7, 4.9, 1.8],\n",
              "       [6.7, 3.3, 5.7, 2.1],\n",
              "       [7.2, 3.2, 6. , 1.8],\n",
              "       [6.2, 2.8, 4.8, 1.8],\n",
              "       [6.1, 3. , 4.9, 1.8],\n",
              "       [6.4, 2.8, 5.6, 2.1],\n",
              "       [7.2, 3. , 5.8, 1.6],\n",
              "       [7.4, 2.8, 6.1, 1.9],\n",
              "       [7.9, 3.8, 6.4, 2. ],\n",
              "       [6.4, 2.8, 5.6, 2.2],\n",
              "       [6.3, 2.8, 5.1, 1.5],\n",
              "       [6.1, 2.6, 5.6, 1.4],\n",
              "       [7.7, 3. , 6.1, 2.3],\n",
              "       [6.3, 3.4, 5.6, 2.4],\n",
              "       [6.4, 3.1, 5.5, 1.8],\n",
              "       [6. , 3. , 4.8, 1.8],\n",
              "       [6.9, 3.1, 5.4, 2.1],\n",
              "       [6.7, 3.1, 5.6, 2.4],\n",
              "       [6.9, 3.1, 5.1, 2.3],\n",
              "       [5.8, 2.7, 5.1, 1.9],\n",
              "       [6.8, 3.2, 5.9, 2.3],\n",
              "       [6.7, 3.3, 5.7, 2.5],\n",
              "       [6.7, 3. , 5.2, 2.3],\n",
              "       [6.3, 2.5, 5. , 1.9],\n",
              "       [6.5, 3. , 5.2, 2. ],\n",
              "       [6.2, 3.4, 5.4, 2.3],\n",
              "       [5.9, 3. , 5.1, 1.8]])"
            ]
          },
          "metadata": {
            "tags": []
          },
          "execution_count": 14
        }
      ]
    },
    {
      "cell_type": "code",
      "metadata": {
        "colab": {
          "base_uri": "https://localhost:8080/"
        },
        "id": "Ij_DoAaOaHoy",
        "outputId": "445afd6c-279c-4f3d-d1d3-147c9e4391b2"
      },
      "source": [
        "y=ds_iris.iloc[:, 4].values\n",
        "y"
      ],
      "execution_count": 15,
      "outputs": [
        {
          "output_type": "execute_result",
          "data": {
            "text/plain": [
              "array([0, 0, 0, 0, 0, 0, 0, 0, 0, 0, 0, 0, 0, 0, 0, 0, 0, 0, 0, 0, 0, 0,\n",
              "       0, 0, 0, 0, 0, 0, 0, 0, 0, 0, 0, 0, 0, 0, 0, 0, 0, 0, 0, 0, 0, 0,\n",
              "       0, 0, 0, 0, 0, 0, 1, 1, 1, 1, 1, 1, 1, 1, 1, 1, 1, 1, 1, 1, 1, 1,\n",
              "       1, 1, 1, 1, 1, 1, 1, 1, 1, 1, 1, 1, 1, 1, 1, 1, 1, 1, 1, 1, 1, 1,\n",
              "       1, 1, 1, 1, 1, 1, 1, 1, 1, 1, 1, 1, 2, 2, 2, 2, 2, 2, 2, 2, 2, 2,\n",
              "       2, 2, 2, 2, 2, 2, 2, 2, 2, 2, 2, 2, 2, 2, 2, 2, 2, 2, 2, 2, 2, 2,\n",
              "       2, 2, 2, 2, 2, 2, 2, 2, 2, 2, 2, 2, 2, 2, 2, 2, 2, 2])"
            ]
          },
          "metadata": {
            "tags": []
          },
          "execution_count": 15
        }
      ]
    },
    {
      "cell_type": "markdown",
      "metadata": {
        "id": "gYZzWSZRaHoy"
      },
      "source": [
        "## Dealing with Missing Values"
      ]
    },
    {
      "cell_type": "code",
      "metadata": {
        "colab": {
          "base_uri": "https://localhost:8080/"
        },
        "id": "UPICJZJjeLas",
        "outputId": "14f86748-cbde-4c8b-b07a-442bc730c113"
      },
      "source": [
        "ds_iris.isna().sum()"
      ],
      "execution_count": 16,
      "outputs": [
        {
          "output_type": "execute_result",
          "data": {
            "text/plain": [
              "sepal-length    0\n",
              "sepal-width     0\n",
              "petal-length    0\n",
              "petal-width     0\n",
              "species         0\n",
              "dtype: int64"
            ]
          },
          "metadata": {
            "tags": []
          },
          "execution_count": 16
        }
      ]
    },
    {
      "cell_type": "markdown",
      "metadata": {
        "id": "4jiSFa4qaHoy"
      },
      "source": [
        "As given in documentation of dataset that dataset has no missing values or no attribute that has missing values\n",
        "\n",
        "\n"
      ]
    },
    {
      "cell_type": "markdown",
      "metadata": {
        "id": "f7zPOvDFaHoz"
      },
      "source": [
        "\n",
        "\n",
        "\n",
        "## Normalizing values of variables "
      ]
    },
    {
      "cell_type": "code",
      "metadata": {
        "colab": {
          "base_uri": "https://localhost:8080/"
        },
        "id": "d7UkH1g-aHoz",
        "outputId": "92730dff-7948-4a49-cf51-cad0ae2b0992"
      },
      "source": [
        "from sklearn.preprocessing import Normalizer\n",
        "scaler = Normalizer().fit(x)\n",
        "normalizedX = scaler.transform(x)\n",
        "normalizedX"
      ],
      "execution_count": 17,
      "outputs": [
        {
          "output_type": "execute_result",
          "data": {
            "text/plain": [
              "array([[0.80377277, 0.55160877, 0.22064351, 0.0315205 ],\n",
              "       [0.82813287, 0.50702013, 0.23660939, 0.03380134],\n",
              "       [0.80533308, 0.54831188, 0.2227517 , 0.03426949],\n",
              "       [0.80003025, 0.53915082, 0.26087943, 0.03478392],\n",
              "       [0.790965  , 0.5694948 , 0.2214702 , 0.0316386 ],\n",
              "       [0.78417499, 0.5663486 , 0.2468699 , 0.05808704],\n",
              "       [0.78010936, 0.57660257, 0.23742459, 0.0508767 ],\n",
              "       [0.80218492, 0.54548574, 0.24065548, 0.0320874 ],\n",
              "       [0.80642366, 0.5315065 , 0.25658935, 0.03665562],\n",
              "       [0.81803119, 0.51752994, 0.25041771, 0.01669451],\n",
              "       [0.80373519, 0.55070744, 0.22325977, 0.02976797],\n",
              "       [0.786991  , 0.55745196, 0.26233033, 0.03279129],\n",
              "       [0.82307218, 0.51442011, 0.24006272, 0.01714734],\n",
              "       [0.8025126 , 0.55989251, 0.20529392, 0.01866308],\n",
              "       [0.81120865, 0.55945424, 0.16783627, 0.02797271],\n",
              "       [0.77381111, 0.59732787, 0.2036345 , 0.05430253],\n",
              "       [0.79428944, 0.57365349, 0.19121783, 0.05883625],\n",
              "       [0.80327412, 0.55126656, 0.22050662, 0.04725142],\n",
              "       [0.8068282 , 0.53788547, 0.24063297, 0.04246464],\n",
              "       [0.77964883, 0.58091482, 0.22930848, 0.0458617 ],\n",
              "       [0.8173379 , 0.51462016, 0.25731008, 0.03027177],\n",
              "       [0.78591858, 0.57017622, 0.23115252, 0.06164067],\n",
              "       [0.77577075, 0.60712493, 0.16864581, 0.03372916],\n",
              "       [0.80597792, 0.52151512, 0.26865931, 0.07901744],\n",
              "       [0.776114  , 0.54974742, 0.30721179, 0.03233808],\n",
              "       [0.82647451, 0.4958847 , 0.26447184, 0.03305898],\n",
              "       [0.79778206, 0.5424918 , 0.25529026, 0.06382256],\n",
              "       [0.80641965, 0.54278246, 0.23262105, 0.03101614],\n",
              "       [0.81609427, 0.5336001 , 0.21971769, 0.03138824],\n",
              "       [0.79524064, 0.54144043, 0.27072022, 0.03384003],\n",
              "       [0.80846584, 0.52213419, 0.26948861, 0.03368608],\n",
              "       [0.82225028, 0.51771314, 0.22840286, 0.06090743],\n",
              "       [0.76578311, 0.60379053, 0.22089897, 0.0147266 ],\n",
              "       [0.77867447, 0.59462414, 0.19820805, 0.02831544],\n",
              "       [0.81803119, 0.51752994, 0.25041771, 0.01669451],\n",
              "       [0.82512295, 0.52807869, 0.19802951, 0.03300492],\n",
              "       [0.82699754, 0.52627116, 0.19547215, 0.03007264],\n",
              "       [0.81803119, 0.51752994, 0.25041771, 0.01669451],\n",
              "       [0.80212413, 0.54690282, 0.23699122, 0.03646019],\n",
              "       [0.80779568, 0.53853046, 0.23758697, 0.03167826],\n",
              "       [0.80033301, 0.56023311, 0.20808658, 0.04801998],\n",
              "       [0.86093857, 0.44003527, 0.24871559, 0.0573959 ],\n",
              "       [0.78609038, 0.57170209, 0.23225397, 0.03573138],\n",
              "       [0.78889479, 0.55222635, 0.25244633, 0.09466737],\n",
              "       [0.76693897, 0.57144472, 0.28572236, 0.06015208],\n",
              "       [0.82210585, 0.51381615, 0.23978087, 0.05138162],\n",
              "       [0.77729093, 0.57915795, 0.24385598, 0.030482  ],\n",
              "       [0.79594782, 0.55370283, 0.24224499, 0.03460643],\n",
              "       [0.79837025, 0.55735281, 0.22595384, 0.03012718],\n",
              "       [0.81228363, 0.5361072 , 0.22743942, 0.03249135],\n",
              "       [0.76701103, 0.35063361, 0.51499312, 0.15340221],\n",
              "       [0.74549757, 0.37274878, 0.52417798, 0.17472599],\n",
              "       [0.75519285, 0.33928954, 0.53629637, 0.16417236],\n",
              "       [0.75384916, 0.31524601, 0.54825394, 0.17818253],\n",
              "       [0.7581754 , 0.32659863, 0.5365549 , 0.17496355],\n",
              "       [0.72232962, 0.35482858, 0.57026022, 0.16474184],\n",
              "       [0.72634846, 0.38046824, 0.54187901, 0.18446945],\n",
              "       [0.75916547, 0.37183615, 0.51127471, 0.15493173],\n",
              "       [0.76301853, 0.33526572, 0.53180079, 0.15029153],\n",
              "       [0.72460233, 0.37623583, 0.54345175, 0.19508524],\n",
              "       [0.76923077, 0.30769231, 0.53846154, 0.15384615],\n",
              "       [0.73923462, 0.37588201, 0.52623481, 0.187941  ],\n",
              "       [0.78892752, 0.28927343, 0.52595168, 0.13148792],\n",
              "       [0.73081412, 0.34743622, 0.56308629, 0.16772783],\n",
              "       [0.75911707, 0.3931142 , 0.48800383, 0.17622361],\n",
              "       [0.76945444, 0.35601624, 0.50531337, 0.16078153],\n",
              "       [0.70631892, 0.37838513, 0.5675777 , 0.18919257],\n",
              "       [0.75676497, 0.35228714, 0.53495455, 0.13047672],\n",
              "       [0.76444238, 0.27125375, 0.55483721, 0.18494574],\n",
              "       [0.76185188, 0.34011245, 0.53057542, 0.14964948],\n",
              "       [0.6985796 , 0.37889063, 0.56833595, 0.21312598],\n",
              "       [0.77011854, 0.35349703, 0.50499576, 0.16412362],\n",
              "       [0.74143307, 0.29421947, 0.57667016, 0.17653168],\n",
              "       [0.73659895, 0.33811099, 0.56754345, 0.14490471],\n",
              "       [0.76741698, 0.34773582, 0.51560829, 0.15588157],\n",
              "       [0.76785726, 0.34902603, 0.51190484, 0.16287881],\n",
              "       [0.76467269, 0.31486523, 0.53976896, 0.15743261],\n",
              "       [0.74088576, 0.33173989, 0.55289982, 0.18798594],\n",
              "       [0.73350949, 0.35452959, 0.55013212, 0.18337737],\n",
              "       [0.78667474, 0.35883409, 0.48304589, 0.13801311],\n",
              "       [0.76521855, 0.33391355, 0.52869645, 0.15304371],\n",
              "       [0.77242925, 0.33706004, 0.51963422, 0.14044168],\n",
              "       [0.76434981, 0.35581802, 0.51395936, 0.15814134],\n",
              "       [0.70779525, 0.31850786, 0.60162596, 0.1887454 ],\n",
              "       [0.69333409, 0.38518561, 0.57777841, 0.1925928 ],\n",
              "       [0.71524936, 0.40530797, 0.53643702, 0.19073316],\n",
              "       [0.75457341, 0.34913098, 0.52932761, 0.16893434],\n",
              "       [0.77530021, 0.28304611, 0.54147951, 0.15998258],\n",
              "       [0.72992443, 0.39103094, 0.53440896, 0.16944674],\n",
              "       [0.74714194, 0.33960997, 0.54337595, 0.17659719],\n",
              "       [0.72337118, 0.34195729, 0.57869695, 0.15782644],\n",
              "       [0.73260391, 0.36029701, 0.55245541, 0.1681386 ],\n",
              "       [0.76262994, 0.34186859, 0.52595168, 0.1577855 ],\n",
              "       [0.76986879, 0.35413965, 0.5081134 , 0.15397376],\n",
              "       [0.73544284, 0.35458851, 0.55158213, 0.1707278 ],\n",
              "       [0.73239618, 0.38547167, 0.53966034, 0.15418867],\n",
              "       [0.73446047, 0.37367287, 0.5411814 , 0.16750853],\n",
              "       [0.75728103, 0.3542121 , 0.52521104, 0.15878473],\n",
              "       [0.78258054, 0.38361791, 0.4603415 , 0.16879188],\n",
              "       [0.7431482 , 0.36505526, 0.5345452 , 0.16948994],\n",
              "       [0.65387747, 0.34250725, 0.62274045, 0.25947519],\n",
              "       [0.69052512, 0.32145135, 0.60718588, 0.22620651],\n",
              "       [0.71491405, 0.30207636, 0.59408351, 0.21145345],\n",
              "       [0.69276796, 0.31889319, 0.61579374, 0.1979337 ],\n",
              "       [0.68619022, 0.31670318, 0.61229281, 0.232249  ],\n",
              "       [0.70953708, 0.28008043, 0.61617694, 0.1960563 ],\n",
              "       [0.67054118, 0.34211284, 0.61580312, 0.23263673],\n",
              "       [0.71366557, 0.28351098, 0.61590317, 0.17597233],\n",
              "       [0.71414125, 0.26647062, 0.61821183, 0.19185884],\n",
              "       [0.69198788, 0.34599394, 0.58626751, 0.24027357],\n",
              "       [0.71562645, 0.3523084 , 0.56149152, 0.22019275],\n",
              "       [0.71576546, 0.30196356, 0.59274328, 0.21249287],\n",
              "       [0.71718148, 0.31640359, 0.58007326, 0.22148252],\n",
              "       [0.6925518 , 0.30375079, 0.60750157, 0.24300063],\n",
              "       [0.67767924, 0.32715549, 0.59589036, 0.28041899],\n",
              "       [0.69589887, 0.34794944, 0.57629125, 0.25008866],\n",
              "       [0.70610474, 0.3258945 , 0.59747324, 0.1955367 ],\n",
              "       [0.69299099, 0.34199555, 0.60299216, 0.19799743],\n",
              "       [0.70600618, 0.2383917 , 0.63265489, 0.21088496],\n",
              "       [0.72712585, 0.26661281, 0.60593821, 0.18178146],\n",
              "       [0.70558934, 0.32722984, 0.58287815, 0.23519645],\n",
              "       [0.68307923, 0.34153961, 0.59769433, 0.24395687],\n",
              "       [0.71486543, 0.25995106, 0.62202576, 0.18567933],\n",
              "       [0.73122464, 0.31338199, 0.56873028, 0.20892133],\n",
              "       [0.69595601, 0.3427843 , 0.59208198, 0.21813547],\n",
              "       [0.71529453, 0.31790868, 0.59607878, 0.17882363],\n",
              "       [0.72785195, 0.32870733, 0.56349829, 0.21131186],\n",
              "       [0.71171214, 0.35002236, 0.57170319, 0.21001342],\n",
              "       [0.69594002, 0.30447376, 0.60894751, 0.22835532],\n",
              "       [0.73089855, 0.30454106, 0.58877939, 0.1624219 ],\n",
              "       [0.72766159, 0.27533141, 0.59982915, 0.18683203],\n",
              "       [0.71578999, 0.34430405, 0.5798805 , 0.18121266],\n",
              "       [0.69417747, 0.30370264, 0.60740528, 0.2386235 ],\n",
              "       [0.72366005, 0.32162669, 0.58582004, 0.17230001],\n",
              "       [0.69385414, 0.29574111, 0.63698085, 0.15924521],\n",
              "       [0.73154399, 0.28501714, 0.57953485, 0.21851314],\n",
              "       [0.67017484, 0.36168166, 0.59571097, 0.2553047 ],\n",
              "       [0.69804799, 0.338117  , 0.59988499, 0.196326  ],\n",
              "       [0.71066905, 0.35533453, 0.56853524, 0.21320072],\n",
              "       [0.72415258, 0.32534391, 0.56672811, 0.22039426],\n",
              "       [0.69997037, 0.32386689, 0.58504986, 0.25073566],\n",
              "       [0.73337886, 0.32948905, 0.54206264, 0.24445962],\n",
              "       [0.69052512, 0.32145135, 0.60718588, 0.22620651],\n",
              "       [0.69193502, 0.32561648, 0.60035539, 0.23403685],\n",
              "       [0.68914871, 0.33943145, 0.58629069, 0.25714504],\n",
              "       [0.72155725, 0.32308533, 0.56001458, 0.24769876],\n",
              "       [0.72965359, 0.28954508, 0.57909015, 0.22005426],\n",
              "       [0.71653899, 0.3307103 , 0.57323119, 0.22047353],\n",
              "       [0.67467072, 0.36998072, 0.58761643, 0.25028107],\n",
              "       [0.69025916, 0.35097923, 0.5966647 , 0.21058754]])"
            ]
          },
          "metadata": {
            "tags": []
          },
          "execution_count": 17
        }
      ]
    },
    {
      "cell_type": "markdown",
      "metadata": {
        "id": "qATe8XU1gerB"
      },
      "source": [
        "## **Visualizing Data**"
      ]
    },
    {
      "cell_type": "code",
      "metadata": {
        "colab": {
          "base_uri": "https://localhost:8080/",
          "height": 1000
        },
        "id": "VKw7DhjZgo-e",
        "outputId": "eb9ed3f9-b1f8-4fe3-8d14-bcc73886f2f5"
      },
      "source": [
        "ds_iris['petal-length'].hist()\n",
        "plt.title('Petal Length')\n",
        "plt.show()\n",
        "ds_iris['petal-width'].hist()\n",
        "plt.title('Petal Width')\n",
        "plt.show()\n",
        "ds_iris['sepal-length'].hist()\n",
        "plt.title('Sepal Length')\n",
        "plt.show()\n",
        "ds_iris['sepal-width'].hist()\n",
        "plt.title('Sepal Width')\n",
        "plt.show()"
      ],
      "execution_count": 26,
      "outputs": [
        {
          "output_type": "display_data",
          "data": {
            "image/png": "[encoded data removed]",
            "text/plain": [
              "<Figure size 432x288 with 1 Axes>"
            ]
          },
          "metadata": {
            "tags": [],
            "needs_background": "light"
          }
        },
        {
          "output_type": "display_data",
          "data": {
            "image/png": "[encoded data removed]",
            "text/plain": [
              "<Figure size 432x288 with 1 Axes>"
            ]
          },
          "metadata": {
            "tags": [],
            "needs_background": "light"
          }
        },
        {
          "output_type": "display_data",
          "data": {
            "image/png": "[encoded data removed]",
            "text/plain": [
              "<Figure size 432x288 with 1 Axes>"
            ]
          },
          "metadata": {
            "tags": [],
            "needs_background": "light"
          }
        },
        {
          "output_type": "display_data",
          "data": {
            "image/png": "[encoded data removed]",
            "text/plain": [
              "<Figure size 432x288 with 1 Axes>"
            ]
          },
          "metadata": {
            "tags": [],
            "needs_background": "light"
          }
        }
      ]
    },
    {
      "cell_type": "markdown",
      "metadata": {
        "id": "BCRRsiA2aHoz"
      },
      "source": [
        "\n",
        "\n",
        "### **Train and Test Split**\n",
        "Next, we will divide the data into train and test split. Following code will split the dataset into 60% training data and 40% of testing data"
      ]
    },
    {
      "cell_type": "code",
      "metadata": {
        "colab": {
          "base_uri": "https://localhost:8080/"
        },
        "id": "Vw_nCDvpaHoz",
        "outputId": "bda6daae-f920-4bc0-acf6-cbddb7a75d4c"
      },
      "source": [
        "from sklearn.model_selection import train_test_split\n",
        "X_train, X_test, y_train, y_test = train_test_split(x, y, test_size = 0.40)\n",
        "print(X_train.shape)\n",
        "print(X_test.shape)\n",
        "\n",
        "print(X_train)\n",
        "print('*************************************************************************')\n",
        "print(X_test)"
      ],
      "execution_count": 18,
      "outputs": [
        {
          "output_type": "stream",
          "text": [
            "(90, 4)\n",
            "(60, 4)\n",
            "[[5.5 2.6 4.4 1.2]\n",
            " [4.6 3.6 1.  0.2]\n",
            " [6.  2.2 4.  1. ]\n",
            " [5.4 3.4 1.7 0.2]\n",
            " [7.9 3.8 6.4 2. ]\n",
            " [6.4 2.9 4.3 1.3]\n",
            " [4.8 3.  1.4 0.1]\n",
            " [6.7 3.  5.  1.7]\n",
            " [6.2 3.4 5.4 2.3]\n",
            " [7.7 3.  6.1 2.3]\n",
            " [5.8 2.7 3.9 1.2]\n",
            " [6.2 2.9 4.3 1.3]\n",
            " [7.2 3.  5.8 1.6]\n",
            " [5.6 3.  4.1 1.3]\n",
            " [6.5 3.  5.8 2.2]\n",
            " [5.  3.4 1.5 0.2]\n",
            " [4.4 2.9 1.4 0.2]\n",
            " [7.  3.2 4.7 1.4]\n",
            " [4.9 3.1 1.5 0.1]\n",
            " [6.6 2.9 4.6 1.3]\n",
            " [5.2 2.7 3.9 1.4]\n",
            " [4.3 3.  1.1 0.1]\n",
            " [6.3 2.5 4.9 1.5]\n",
            " [4.8 3.4 1.9 0.2]\n",
            " [5.  3.5 1.6 0.6]\n",
            " [5.4 3.7 1.5 0.2]\n",
            " [5.5 2.4 3.8 1.1]\n",
            " [4.6 3.2 1.4 0.2]\n",
            " [5.7 2.9 4.2 1.3]\n",
            " [4.8 3.4 1.6 0.2]\n",
            " [5.8 2.6 4.  1.2]\n",
            " [6.  2.2 5.  1.5]\n",
            " [6.7 3.  5.2 2.3]\n",
            " [5.4 3.9 1.7 0.4]\n",
            " [7.3 2.9 6.3 1.8]\n",
            " [5.5 2.3 4.  1.3]\n",
            " [5.  3.2 1.2 0.2]\n",
            " [6.7 3.3 5.7 2.1]\n",
            " [4.9 2.4 3.3 1. ]\n",
            " [6.9 3.1 4.9 1.5]\n",
            " [6.1 3.  4.6 1.4]\n",
            " [6.2 2.2 4.5 1.5]\n",
            " [6.4 3.2 4.5 1.5]\n",
            " [5.  3.  1.6 0.2]\n",
            " [5.5 3.5 1.3 0.2]\n",
            " [6.1 2.8 4.  1.3]\n",
            " [5.7 2.6 3.5 1. ]\n",
            " [4.7 3.2 1.3 0.2]\n",
            " [6.8 2.8 4.8 1.4]\n",
            " [6.3 2.3 4.4 1.3]\n",
            " [5.2 4.1 1.5 0.1]\n",
            " [6.5 3.2 5.1 2. ]\n",
            " [6.7 2.5 5.8 1.8]\n",
            " [5.7 2.8 4.1 1.3]\n",
            " [6.1 2.8 4.7 1.2]\n",
            " [6.8 3.2 5.9 2.3]\n",
            " [5.5 2.5 4.  1.3]\n",
            " [6.1 2.6 5.6 1.4]\n",
            " [6.4 3.1 5.5 1.8]\n",
            " [6.9 3.2 5.7 2.3]\n",
            " [4.6 3.4 1.4 0.3]\n",
            " [5.1 3.8 1.9 0.4]\n",
            " [5.7 2.5 5.  2. ]\n",
            " [5.6 3.  4.5 1.5]\n",
            " [4.8 3.1 1.6 0.2]\n",
            " [5.6 2.7 4.2 1.3]\n",
            " [5.1 3.5 1.4 0.2]\n",
            " [4.9 3.  1.4 0.2]\n",
            " [5.7 3.8 1.7 0.3]\n",
            " [5.8 2.7 4.1 1. ]\n",
            " [6.9 3.1 5.4 2.1]\n",
            " [5.6 2.8 4.9 2. ]\n",
            " [6.7 3.3 5.7 2.5]\n",
            " [5.1 2.5 3.  1.1]\n",
            " [5.1 3.5 1.4 0.3]\n",
            " [6.2 2.8 4.8 1.8]\n",
            " [6.9 3.1 5.1 2.3]\n",
            " [7.6 3.  6.6 2.1]\n",
            " [6.3 3.3 4.7 1.6]\n",
            " [6.3 2.8 5.1 1.5]\n",
            " [5.8 2.7 5.1 1.9]\n",
            " [6.6 3.  4.4 1.4]\n",
            " [5.  3.3 1.4 0.2]\n",
            " [6.5 3.  5.2 2. ]\n",
            " [7.2 3.2 6.  1.8]\n",
            " [6.  3.4 4.5 1.6]\n",
            " [5.2 3.4 1.4 0.2]\n",
            " [4.5 2.3 1.3 0.3]\n",
            " [6.4 3.2 5.3 2.3]\n",
            " [5.2 3.5 1.5 0.2]]\n",
            "*************************************************************************\n",
            "[[6.1 3.  4.9 1.8]\n",
            " [4.6 3.1 1.5 0.2]\n",
            " [4.9 3.1 1.5 0.1]\n",
            " [5.7 2.8 4.5 1.3]\n",
            " [6.  2.7 5.1 1.6]\n",
            " [6.3 3.3 6.  2.5]\n",
            " [5.  3.5 1.3 0.3]\n",
            " [6.3 3.4 5.6 2.4]\n",
            " [6.7 3.1 5.6 2.4]\n",
            " [5.6 2.5 3.9 1.1]\n",
            " [5.7 4.4 1.5 0.4]\n",
            " [6.5 2.8 4.6 1.5]\n",
            " [6.3 2.7 4.9 1.8]\n",
            " [7.7 2.6 6.9 2.3]\n",
            " [4.7 3.2 1.6 0.2]\n",
            " [6.  3.  4.8 1.8]\n",
            " [5.  2.3 3.3 1. ]\n",
            " [6.1 2.9 4.7 1.4]\n",
            " [6.4 2.8 5.6 2.2]\n",
            " [5.7 3.  4.2 1.2]\n",
            " [5.1 3.8 1.6 0.2]\n",
            " [5.  3.6 1.4 0.2]\n",
            " [6.5 3.  5.5 1.8]\n",
            " [4.4 3.  1.3 0.2]\n",
            " [5.5 2.4 3.7 1. ]\n",
            " [5.3 3.7 1.5 0.2]\n",
            " [7.4 2.8 6.1 1.9]\n",
            " [5.8 2.8 5.1 2.4]\n",
            " [5.1 3.7 1.5 0.4]\n",
            " [6.4 2.8 5.6 2.1]\n",
            " [5.1 3.4 1.5 0.2]\n",
            " [5.4 3.4 1.5 0.4]\n",
            " [5.9 3.2 4.8 1.8]\n",
            " [5.9 3.  4.2 1.5]\n",
            " [6.7 3.1 4.7 1.5]\n",
            " [4.4 3.2 1.3 0.2]\n",
            " [5.4 3.9 1.3 0.4]\n",
            " [5.6 2.9 3.6 1.3]\n",
            " [5.9 3.  5.1 1.8]\n",
            " [6.7 3.1 4.4 1.4]\n",
            " [7.2 3.6 6.1 2.5]\n",
            " [5.  2.  3.5 1. ]\n",
            " [5.4 3.  4.5 1.5]\n",
            " [7.7 2.8 6.7 2. ]\n",
            " [5.5 4.2 1.4 0.2]\n",
            " [7.7 3.8 6.7 2.2]\n",
            " [6.3 2.9 5.6 1.8]\n",
            " [5.1 3.3 1.7 0.5]\n",
            " [5.8 2.7 5.1 1.9]\n",
            " [6.3 2.5 5.  1.9]\n",
            " [5.  3.4 1.6 0.4]\n",
            " [6.8 3.  5.5 2.1]\n",
            " [4.9 2.5 4.5 1.7]\n",
            " [5.8 4.  1.2 0.2]\n",
            " [5.1 3.8 1.5 0.3]\n",
            " [4.8 3.  1.4 0.3]\n",
            " [7.1 3.  5.9 2.1]\n",
            " [6.  2.9 4.5 1.5]\n",
            " [4.9 3.1 1.5 0.1]\n",
            " [6.4 2.7 5.3 1.9]]\n"
          ],
          "name": "stdout"
        }
      ]
    },
    {
      "cell_type": "markdown",
      "metadata": {
        "collapsed": true,
        "id": "Pgs3j3tjaHoz"
      },
      "source": [
        "### Training a KNN Classifier"
      ]
    },
    {
      "cell_type": "code",
      "metadata": {
        "colab": {
          "base_uri": "https://localhost:8080/"
        },
        "id": "485077-PaHoz",
        "outputId": "bf970618-596c-4e48-beff-ddc79a4b5f41"
      },
      "source": [
        "from sklearn.neighbors import KNeighborsClassifier\n",
        "classifier = KNeighborsClassifier(n_neighbors = 13)\n",
        "classifier.fit(X_train, y_train)"
      ],
      "execution_count": 42,
      "outputs": [
        {
          "output_type": "execute_result",
          "data": {
            "text/plain": [
              "KNeighborsClassifier(algorithm='auto', leaf_size=30, metric='minkowski',\n",
              "                     metric_params=None, n_jobs=None, n_neighbors=13, p=2,\n",
              "                     weights='uniform')"
            ]
          },
          "metadata": {
            "tags": []
          },
          "execution_count": 42
        }
      ]
    },
    {
      "cell_type": "markdown",
      "metadata": {
        "collapsed": true,
        "id": "hCU1avJoaHo0"
      },
      "source": [
        "### Making the Predictions"
      ]
    },
    {
      "cell_type": "code",
      "metadata": {
        "id": "q9vdbM4IaHo0"
      },
      "source": [
        "y_pred = classifier.predict(X_test)"
      ],
      "execution_count": 43,
      "outputs": []
    },
    {
      "cell_type": "markdown",
      "metadata": {
        "collapsed": true,
        "id": "dxig9lvRaHo0"
      },
      "source": [
        "### Output"
      ]
    },
    {
      "cell_type": "code",
      "metadata": {
        "colab": {
          "base_uri": "https://localhost:8080/",
          "height": 568
        },
        "id": "3hXuHVPiaHo0",
        "outputId": "e91c0ace-8c31-49ce-fc7f-bd74f8c910f3"
      },
      "source": [
        "from sklearn.metrics import classification_report, confusion_matrix, accuracy_score\n",
        "from sklearn.metrics import plot_confusion_matrix\n",
        "\n",
        "result = confusion_matrix(y_test, y_pred)\n",
        "print(\"Confusion Matrix:\")\n",
        "print(result)\n",
        "result1 = classification_report(y_test, y_pred)\n",
        "print(\"Classification Report:\",)\n",
        "print (result1)\n",
        "result2 = accuracy_score(y_test,y_pred)\n",
        "print(\"Accuracy:\",result2)\n",
        "plot_confusion_matrix(classifier, X_test,y_pred,cmap=plt.cm.Blues)"
      ],
      "execution_count": 44,
      "outputs": [
        {
          "output_type": "stream",
          "text": [
            "Confusion Matrix:\n",
            "[[21  0  0]\n",
            " [ 0 15  1]\n",
            " [ 0  2 21]]\n",
            "Classification Report:\n",
            "              precision    recall  f1-score   support\n",
            "\n",
            "           0       1.00      1.00      1.00        21\n",
            "           1       0.88      0.94      0.91        16\n",
            "           2       0.95      0.91      0.93        23\n",
            "\n",
            "    accuracy                           0.95        60\n",
            "   macro avg       0.95      0.95      0.95        60\n",
            "weighted avg       0.95      0.95      0.95        60\n",
            "\n",
            "Accuracy: 0.95\n"
          ],
          "name": "stdout"
        },
        {
          "output_type": "execute_result",
          "data": {
            "text/plain": [
              "<sklearn.metrics._plot.confusion_matrix.ConfusionMatrixDisplay at 0x7fd5886f1690>"
            ]
          },
          "metadata": {
            "tags": []
          },
          "execution_count": 44
        },
        {
          "output_type": "display_data",
          "data": {
            "image/png": "[encoded data removed]",
            "text/plain": [
              "<Figure size 432x288 with 2 Axes>"
            ]
          },
          "metadata": {
            "tags": []
          }
        }
      ]
    },
    {
      "cell_type": "code",
      "metadata": {
        "colab": {
          "base_uri": "https://localhost:8080/"
        },
        "id": "0TQ8t_sLaHo0",
        "outputId": "0b5f2be7-edb9-4f35-d3c6-dff7f45dcdaa"
      },
      "source": [
        "Y_pred = classifier.predict(X_test)\n",
        "print(Y_pred)"
      ],
      "execution_count": 35,
      "outputs": [
        {
          "output_type": "stream",
          "text": [
            "[2 0 0 1 2 2 0 2 2 1 0 1 2 2 0 2 1 1 2 1 0 0 2 0 1 0 2 2 0 2 0 0 1 1 1 0 0\n",
            " 1 2 1 2 1 1 2 0 2 2 0 2 2 0 2 1 0 0 0 2 1 0 2]\n"
          ],
          "name": "stdout"
        }
      ]
    },
    {
      "cell_type": "markdown",
      "metadata": {
        "id": "ckrA1E10aHo0"
      },
      "source": [
        "### **Analysis Of performance while varying the number of neighbours in K Nearest Neighbour Classifer** "
      ]
    },
    {
      "cell_type": "markdown",
      "metadata": {
        "id": "TRUOGTvNaHo0"
      },
      "source": [
        "At 3 nearest neighbors model predicts 93.3% correctly, but for k = 5,7, 9,and 11 model accuracy is 96.7%. \n",
        "So k = 7 is used."
      ]
    },
    {
      "cell_type": "markdown",
      "metadata": {
        "id": "UToKan-uaHo0"
      },
      "source": [
        "### K-fold Crossvalidation\n",
        "K-Folds cross-validator provides train/test indices to split data in train/test sets. Split dataset into k consecutive folds (without shuffling by default). Each fold is then used once as a validation while the k - 1 remaining folds form the training set.\n"
      ]
    },
    {
      "cell_type": "code",
      "metadata": {
        "colab": {
          "base_uri": "https://localhost:8080/"
        },
        "id": "PzRaLpFcaHo0",
        "outputId": "bc58a7e5-8727-4a69-9cd1-8390a4436b5e"
      },
      "source": [
        "from sklearn.model_selection import KFold\n",
        "# prepare cross validation\n",
        "kfold = KFold(2, True) # value of K and shuffle? \n",
        "# enumerate splits\n",
        "for train, test in kfold.split(X_train):\n",
        "    print('train: %s, test: %s' % (X_train[train], X_train[test]))\n",
        "   "
      ],
      "execution_count": 45,
      "outputs": [
        {
          "output_type": "stream",
          "text": [
            "train: [[-0.42911515 -1.03531433  0.38646697  0.04082105]\n",
            " [ 0.1762197  -2.01872637  0.15105562 -0.23131928]\n",
            " [-0.55018212  0.93150973 -1.20255967 -1.3198806 ]\n",
            " [ 2.47649213  1.91492176  1.56352375  1.12938237]\n",
            " [-1.27658394 -0.0519023  -1.37911819 -1.45595077]\n",
            " [ 0.41835364 -0.29775531  0.32761414  0.17689121]\n",
            " [-1.03445     0.93150973 -1.32026535 -1.3198806 ]\n",
            " [-1.76085182 -0.29775531 -1.37911819 -1.3198806 ]\n",
            " [ 0.53942061 -1.28116734  0.68073117  0.44903154]\n",
            " [-1.27658394  0.93150973 -1.08485399 -1.3198806 ]\n",
            " [-1.03445     1.17736274 -1.26141251 -0.77559994]\n",
            " [-0.42911515 -1.52702035  0.03334994 -0.09524912]\n",
            " [-1.51871788  0.43980371 -1.37911819 -1.3198806 ]\n",
            " [-0.18698121 -0.29775531  0.2687613   0.17689121]\n",
            " [-0.06591424 -1.03531433  0.15105562  0.04082105]\n",
            " [ 0.1762197  -2.01872637  0.73958401  0.44903154]\n",
            " [ 1.02368849 -0.0519023   0.85728968  1.53759286]\n",
            " [-0.42911515 -1.77287336  0.15105562  0.17689121]\n",
            " [ 1.02368849  0.68565672  1.15155388  1.26545253]\n",
            " [-1.15551697 -1.52702035 -0.26091425 -0.23131928]\n",
            " [ 0.66048758  0.43980371  0.44531981  0.44903154]\n",
            " [-0.42911515  1.17736274 -1.43797103 -1.3198806 ]\n",
            " [ 0.29728667 -0.54360832  0.15105562  0.17689121]\n",
            " [-0.18698121 -1.03531433 -0.14320857 -0.23131928]\n",
            " [-1.39765091  0.43980371 -1.43797103 -1.3198806 ]\n",
            " [ 0.78155455  0.43980371  0.79843684  1.12938237]\n",
            " [ 1.02368849 -1.28116734  1.21040672  0.85724204]\n",
            " [-0.18698121 -0.54360832  0.20990846  0.17689121]\n",
            " [-0.42911515 -1.28116734  0.15105562  0.17689121]\n",
            " [ 0.29728667 -1.03531433  1.09270104  0.31296138]\n",
            " [ 1.26582243  0.43980371  1.15155388  1.53759286]\n",
            " [-1.51871788  0.93150973 -1.37911819 -1.18381044]\n",
            " [-0.91338303  1.91492176 -1.08485399 -1.04774027]\n",
            " [-0.18698121 -1.28116734  0.73958401  1.12938237]\n",
            " [-0.30804818 -0.0519023   0.44531981  0.44903154]\n",
            " [-1.27658394  0.19395071 -1.26141251 -1.3198806 ]\n",
            " [-0.30804818 -0.78946133  0.2687613   0.17689121]\n",
            " [-0.91338303  1.17736274 -1.37911819 -1.3198806 ]\n",
            " [-1.15551697 -0.0519023  -1.37911819 -1.3198806 ]\n",
            " [-0.18698121  1.91492176 -1.20255967 -1.18381044]\n",
            " [-0.06591424 -0.78946133  0.20990846 -0.23131928]\n",
            " [-0.91338303  1.17736274 -1.37911819 -1.18381044]\n",
            " [ 0.41835364 -0.54360832  0.62187833  0.85724204]\n",
            " [ 0.53942061 -0.54360832  0.79843684  0.44903154]\n",
            " [-0.79231606  0.93150973 -1.37911819 -1.3198806 ]], test: [[-1.51871788  1.42321575 -1.61452954 -1.3198806 ]\n",
            " [ 0.66048758 -0.29775531  0.32761414  0.17689121]\n",
            " [ 1.02368849 -0.0519023   0.73958401  0.72117187]\n",
            " [ 0.41835364  0.93150973  0.97499536  1.53759286]\n",
            " [ 2.23435819 -0.0519023   1.38696523  1.53759286]\n",
            " [-0.06591424 -0.78946133  0.09220278  0.04082105]\n",
            " [ 1.62902334 -0.0519023   1.21040672  0.58510171]\n",
            " [-0.30804818 -0.0519023   0.20990846  0.17689121]\n",
            " [ 0.78155455 -0.0519023   1.21040672  1.4015227 ]\n",
            " [ 1.3868894   0.43980371  0.56302549  0.31296138]\n",
            " [-1.15551697  0.19395071 -1.32026535 -1.45595077]\n",
            " [ 0.90262152 -0.29775531  0.50417265  0.17689121]\n",
            " [-0.79231606 -0.78946133  0.09220278  0.31296138]\n",
            " [-1.88191879 -0.0519023  -1.5556767  -1.45595077]\n",
            " [-0.55018212  1.66906875 -1.32026535 -1.3198806 ]\n",
            " [-1.27658394  0.93150973 -1.26141251 -1.3198806 ]\n",
            " [-0.55018212  2.16077477 -1.20255967 -1.04774027]\n",
            " [ 1.75009031 -0.29775531  1.50467091  0.85724204]\n",
            " [-1.03445     0.43980371 -1.49682386 -1.3198806 ]\n",
            " [ 1.26582243  0.19395071  0.68073117  0.44903154]\n",
            " [ 0.29728667 -0.0519023   0.50417265  0.31296138]\n",
            " [ 0.41835364 -2.01872637  0.44531981  0.44903154]\n",
            " [-1.03445    -0.0519023  -1.26141251 -1.3198806 ]\n",
            " [ 1.14475546 -0.54360832  0.62187833  0.31296138]\n",
            " [ 0.53942061 -1.77287336  0.38646697  0.17689121]\n",
            " [-0.79231606  2.65248079 -1.32026535 -1.45595077]\n",
            " [ 0.29728667 -0.54360832  0.56302549  0.04082105]\n",
            " [ 1.14475546  0.43980371  1.26925955  1.53759286]\n",
            " [ 0.66048758  0.19395071  1.0338482   0.85724204]\n",
            " [ 1.26582243  0.19395071  0.97499536  1.26545253]\n",
            " [-0.30804818 -0.54360832  0.68073117  1.12938237]\n",
            " [ 1.02368849  0.68565672  1.15155388  1.80973319]\n",
            " [-0.91338303 -1.28116734 -0.43747277 -0.09524912]\n",
            " [ 1.26582243  0.19395071  0.79843684  1.53759286]\n",
            " [ 2.11329122 -0.0519023   1.68122942  1.26545253]\n",
            " [ 0.53942061  0.68565672  0.56302549  0.58510171]\n",
            " [-0.06591424 -0.78946133  0.79843684  0.9933122 ]\n",
            " [ 0.90262152 -0.0519023   0.38646697  0.31296138]\n",
            " [-1.03445     0.68565672 -1.37911819 -1.3198806 ]\n",
            " [ 0.78155455 -0.0519023   0.85728968  1.12938237]\n",
            " [ 1.62902334  0.43980371  1.32811239  0.85724204]\n",
            " [ 0.1762197   0.93150973  0.44531981  0.58510171]\n",
            " [-1.63978485 -1.77287336 -1.43797103 -1.18381044]\n",
            " [ 0.66048758  0.43980371  0.91614252  1.53759286]\n",
            " [-0.79231606  1.17736274 -1.32026535 -1.3198806 ]]\n",
            "train: [[-1.51871788  1.42321575 -1.61452954 -1.3198806 ]\n",
            " [ 0.66048758 -0.29775531  0.32761414  0.17689121]\n",
            " [ 1.02368849 -0.0519023   0.73958401  0.72117187]\n",
            " [ 0.41835364  0.93150973  0.97499536  1.53759286]\n",
            " [ 2.23435819 -0.0519023   1.38696523  1.53759286]\n",
            " [-0.06591424 -0.78946133  0.09220278  0.04082105]\n",
            " [ 1.62902334 -0.0519023   1.21040672  0.58510171]\n",
            " [-0.30804818 -0.0519023   0.20990846  0.17689121]\n",
            " [ 0.78155455 -0.0519023   1.21040672  1.4015227 ]\n",
            " [ 1.3868894   0.43980371  0.56302549  0.31296138]\n",
            " [-1.15551697  0.19395071 -1.32026535 -1.45595077]\n",
            " [ 0.90262152 -0.29775531  0.50417265  0.17689121]\n",
            " [-0.79231606 -0.78946133  0.09220278  0.31296138]\n",
            " [-1.88191879 -0.0519023  -1.5556767  -1.45595077]\n",
            " [-0.55018212  1.66906875 -1.32026535 -1.3198806 ]\n",
            " [-1.27658394  0.93150973 -1.26141251 -1.3198806 ]\n",
            " [-0.55018212  2.16077477 -1.20255967 -1.04774027]\n",
            " [ 1.75009031 -0.29775531  1.50467091  0.85724204]\n",
            " [-1.03445     0.43980371 -1.49682386 -1.3198806 ]\n",
            " [ 1.26582243  0.19395071  0.68073117  0.44903154]\n",
            " [ 0.29728667 -0.0519023   0.50417265  0.31296138]\n",
            " [ 0.41835364 -2.01872637  0.44531981  0.44903154]\n",
            " [-1.03445    -0.0519023  -1.26141251 -1.3198806 ]\n",
            " [ 1.14475546 -0.54360832  0.62187833  0.31296138]\n",
            " [ 0.53942061 -1.77287336  0.38646697  0.17689121]\n",
            " [-0.79231606  2.65248079 -1.32026535 -1.45595077]\n",
            " [ 0.29728667 -0.54360832  0.56302549  0.04082105]\n",
            " [ 1.14475546  0.43980371  1.26925955  1.53759286]\n",
            " [ 0.66048758  0.19395071  1.0338482   0.85724204]\n",
            " [ 1.26582243  0.19395071  0.97499536  1.26545253]\n",
            " [-0.30804818 -0.54360832  0.68073117  1.12938237]\n",
            " [ 1.02368849  0.68565672  1.15155388  1.80973319]\n",
            " [-0.91338303 -1.28116734 -0.43747277 -0.09524912]\n",
            " [ 1.26582243  0.19395071  0.79843684  1.53759286]\n",
            " [ 2.11329122 -0.0519023   1.68122942  1.26545253]\n",
            " [ 0.53942061  0.68565672  0.56302549  0.58510171]\n",
            " [-0.06591424 -0.78946133  0.79843684  0.9933122 ]\n",
            " [ 0.90262152 -0.0519023   0.38646697  0.31296138]\n",
            " [-1.03445     0.68565672 -1.37911819 -1.3198806 ]\n",
            " [ 0.78155455 -0.0519023   0.85728968  1.12938237]\n",
            " [ 1.62902334  0.43980371  1.32811239  0.85724204]\n",
            " [ 0.1762197   0.93150973  0.44531981  0.58510171]\n",
            " [-1.63978485 -1.77287336 -1.43797103 -1.18381044]\n",
            " [ 0.66048758  0.43980371  0.91614252  1.53759286]\n",
            " [-0.79231606  1.17736274 -1.32026535 -1.3198806 ]], test: [[-0.42911515 -1.03531433  0.38646697  0.04082105]\n",
            " [ 0.1762197  -2.01872637  0.15105562 -0.23131928]\n",
            " [-0.55018212  0.93150973 -1.20255967 -1.3198806 ]\n",
            " [ 2.47649213  1.91492176  1.56352375  1.12938237]\n",
            " [-1.27658394 -0.0519023  -1.37911819 -1.45595077]\n",
            " [ 0.41835364 -0.29775531  0.32761414  0.17689121]\n",
            " [-1.03445     0.93150973 -1.32026535 -1.3198806 ]\n",
            " [-1.76085182 -0.29775531 -1.37911819 -1.3198806 ]\n",
            " [ 0.53942061 -1.28116734  0.68073117  0.44903154]\n",
            " [-1.27658394  0.93150973 -1.08485399 -1.3198806 ]\n",
            " [-1.03445     1.17736274 -1.26141251 -0.77559994]\n",
            " [-0.42911515 -1.52702035  0.03334994 -0.09524912]\n",
            " [-1.51871788  0.43980371 -1.37911819 -1.3198806 ]\n",
            " [-0.18698121 -0.29775531  0.2687613   0.17689121]\n",
            " [-0.06591424 -1.03531433  0.15105562  0.04082105]\n",
            " [ 0.1762197  -2.01872637  0.73958401  0.44903154]\n",
            " [ 1.02368849 -0.0519023   0.85728968  1.53759286]\n",
            " [-0.42911515 -1.77287336  0.15105562  0.17689121]\n",
            " [ 1.02368849  0.68565672  1.15155388  1.26545253]\n",
            " [-1.15551697 -1.52702035 -0.26091425 -0.23131928]\n",
            " [ 0.66048758  0.43980371  0.44531981  0.44903154]\n",
            " [-0.42911515  1.17736274 -1.43797103 -1.3198806 ]\n",
            " [ 0.29728667 -0.54360832  0.15105562  0.17689121]\n",
            " [-0.18698121 -1.03531433 -0.14320857 -0.23131928]\n",
            " [-1.39765091  0.43980371 -1.43797103 -1.3198806 ]\n",
            " [ 0.78155455  0.43980371  0.79843684  1.12938237]\n",
            " [ 1.02368849 -1.28116734  1.21040672  0.85724204]\n",
            " [-0.18698121 -0.54360832  0.20990846  0.17689121]\n",
            " [-0.42911515 -1.28116734  0.15105562  0.17689121]\n",
            " [ 0.29728667 -1.03531433  1.09270104  0.31296138]\n",
            " [ 1.26582243  0.43980371  1.15155388  1.53759286]\n",
            " [-1.51871788  0.93150973 -1.37911819 -1.18381044]\n",
            " [-0.91338303  1.91492176 -1.08485399 -1.04774027]\n",
            " [-0.18698121 -1.28116734  0.73958401  1.12938237]\n",
            " [-0.30804818 -0.0519023   0.44531981  0.44903154]\n",
            " [-1.27658394  0.19395071 -1.26141251 -1.3198806 ]\n",
            " [-0.30804818 -0.78946133  0.2687613   0.17689121]\n",
            " [-0.91338303  1.17736274 -1.37911819 -1.3198806 ]\n",
            " [-1.15551697 -0.0519023  -1.37911819 -1.3198806 ]\n",
            " [-0.18698121  1.91492176 -1.20255967 -1.18381044]\n",
            " [-0.06591424 -0.78946133  0.20990846 -0.23131928]\n",
            " [-0.91338303  1.17736274 -1.37911819 -1.18381044]\n",
            " [ 0.41835364 -0.54360832  0.62187833  0.85724204]\n",
            " [ 0.53942061 -0.54360832  0.79843684  0.44903154]\n",
            " [-0.79231606  0.93150973 -1.37911819 -1.3198806 ]]\n"
          ],
          "name": "stdout"
        }
      ]
    },
    {
      "cell_type": "code",
      "metadata": {
        "colab": {
          "base_uri": "https://localhost:8080/"
        },
        "id": "YFMtXq2caHo1",
        "outputId": "fb23abc5-782a-4567-b7a8-34662c4566a2"
      },
      "source": [
        "for train, test in kfold.split(x):\n",
        "    classifier.fit(X_train, y_train)\n",
        "    y_pred = classifier.predict(X_test)\n",
        "    result = confusion_matrix(y_test, y_pred)\n",
        "    print(\"Confusion Matrix:\")\n",
        "    print(result)\n",
        "    result1 = classification_report(y_test, y_pred)\n",
        "    print(\"Classification Report:\",)\n",
        "    print (result1)\n",
        "    result2 = accuracy_score(y_test,y_pred)\n",
        "    print(\"Accuracy:\",result2)"
      ],
      "execution_count": 46,
      "outputs": [
        {
          "output_type": "stream",
          "text": [
            "Confusion Matrix:\n",
            "[[21  0  0]\n",
            " [ 0 15  1]\n",
            " [ 0  2 21]]\n",
            "Classification Report:\n",
            "              precision    recall  f1-score   support\n",
            "\n",
            "           0       1.00      1.00      1.00        21\n",
            "           1       0.88      0.94      0.91        16\n",
            "           2       0.95      0.91      0.93        23\n",
            "\n",
            "    accuracy                           0.95        60\n",
            "   macro avg       0.95      0.95      0.95        60\n",
            "weighted avg       0.95      0.95      0.95        60\n",
            "\n",
            "Accuracy: 0.95\n",
            "Confusion Matrix:\n",
            "[[21  0  0]\n",
            " [ 0 15  1]\n",
            " [ 0  2 21]]\n",
            "Classification Report:\n",
            "              precision    recall  f1-score   support\n",
            "\n",
            "           0       1.00      1.00      1.00        21\n",
            "           1       0.88      0.94      0.91        16\n",
            "           2       0.95      0.91      0.93        23\n",
            "\n",
            "    accuracy                           0.95        60\n",
            "   macro avg       0.95      0.95      0.95        60\n",
            "weighted avg       0.95      0.95      0.95        60\n",
            "\n",
            "Accuracy: 0.95\n"
          ],
          "name": "stdout"
        }
      ]
    },
    {
      "cell_type": "code",
      "metadata": {
        "id": "hmNWNAdGaHo7"
      },
      "source": [
        ""
      ],
      "execution_count": null,
      "outputs": []
    }
  ]
}